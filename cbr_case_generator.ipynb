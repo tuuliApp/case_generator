{
 "cells": [
  {
   "cell_type": "markdown",
   "metadata": {},
   "source": [
    "# tuuli CBR Notebook"
   ]
  },
  {
   "cell_type": "markdown",
   "metadata": {},
   "source": [
    "## Step 1: Generate cases"
   ]
  },
  {
   "cell_type": "markdown",
   "metadata": {},
   "source": [
    "This notebook lets us test our CBR stack with [clood](https://github.com/RGU-Computing/clood). We create a new project, add cases and retrieve the most similar cases based on search criteria, e.g. predicted birth date and nutrition preference."
   ]
  },
  {
   "cell_type": "code",
   "execution_count": 123,
   "metadata": {},
   "outputs": [],
   "source": [
    "import pandas as pd\n",
    "import numpy as np\n",
    "import random\n",
    "import requests\n",
    "import json\n",
    "import uuid"
   ]
  },
  {
   "cell_type": "markdown",
   "metadata": {},
   "source": [
    "Define a few example persons. Todo: Should we use trimesters instead of predicted birth dates? Advantage with predicted birth date is that a similarity function for dates is built in clood."
   ]
  },
  {
   "cell_type": "code",
   "execution_count": 204,
   "metadata": {},
   "outputs": [],
   "source": [
    "persons = [\n",
    "    {'age': 24, 'predicted_birth_date': '2023-06-03', 'nutrition_preference': 'vegan'},\n",
    "    {'age': 24, 'predicted_birth_date': '2023-09-03', 'nutrition_preference': 'vegetarian'},\n",
    "    {'age': 24, 'predicted_birth_date': '2023-09-03', 'nutrition_preference': 'vegan'},\n",
    "    {'age': 27, 'predicted_birth_date': '2023-03-01', 'nutrition_preference': 'flexitarian'}\n",
    "]"
   ]
  },
  {
   "cell_type": "markdown",
   "metadata": {},
   "source": [
    "Nugget flows are the order in which the nuggets are delivered to the user. '1,2,3,4' therefore means that the user received nuggets 1,2,3 and 4 in that order. We might need to define an appropriate similiarity function. Currently those are saved as strings."
   ]
  },
  {
   "cell_type": "code",
   "execution_count": 205,
   "metadata": {},
   "outputs": [],
   "source": [
    "nugget_flows = [\n",
    "    [1,2,3,4],\n",
    "    [4,3,2,1],\n",
    "    [2,3,4,1]\n",
    "]"
   ]
  },
  {
   "cell_type": "markdown",
   "metadata": {},
   "source": [
    "Next we combine each person with each nugget flow. Therefore the number of example cases will be the number of persons multiplied with the number of nugget flows."
   ]
  },
  {
   "cell_type": "code",
   "execution_count": 206,
   "metadata": {},
   "outputs": [],
   "source": [
    "cases = []\n",
    "for p in persons:\n",
    "    for f in nugget_flows:\n",
    "        n = p.copy()\n",
    "        n['nugget_flow'] = str(f)\n",
    "        cases.append(n)"
   ]
  },
  {
   "cell_type": "markdown",
   "metadata": {},
   "source": [
    "Let's have a look at the example cases we have generated"
   ]
  },
  {
   "cell_type": "code",
   "execution_count": 207,
   "metadata": {},
   "outputs": [
    {
     "data": {
      "text/html": [
       "<div>\n",
       "<style scoped>\n",
       "    .dataframe tbody tr th:only-of-type {\n",
       "        vertical-align: middle;\n",
       "    }\n",
       "\n",
       "    .dataframe tbody tr th {\n",
       "        vertical-align: top;\n",
       "    }\n",
       "\n",
       "    .dataframe thead th {\n",
       "        text-align: right;\n",
       "    }\n",
       "</style>\n",
       "<table border=\"1\" class=\"dataframe\">\n",
       "  <thead>\n",
       "    <tr style=\"text-align: right;\">\n",
       "      <th></th>\n",
       "      <th>age</th>\n",
       "      <th>predicted_birth_date</th>\n",
       "      <th>nutrition_preference</th>\n",
       "      <th>nugget_flow</th>\n",
       "    </tr>\n",
       "  </thead>\n",
       "  <tbody>\n",
       "    <tr>\n",
       "      <th>0</th>\n",
       "      <td>24</td>\n",
       "      <td>2023-06-03</td>\n",
       "      <td>vegan</td>\n",
       "      <td>[1, 2, 3, 4]</td>\n",
       "    </tr>\n",
       "    <tr>\n",
       "      <th>1</th>\n",
       "      <td>24</td>\n",
       "      <td>2023-06-03</td>\n",
       "      <td>vegan</td>\n",
       "      <td>[4, 3, 2, 1]</td>\n",
       "    </tr>\n",
       "    <tr>\n",
       "      <th>2</th>\n",
       "      <td>24</td>\n",
       "      <td>2023-06-03</td>\n",
       "      <td>vegan</td>\n",
       "      <td>[2, 3, 4, 1]</td>\n",
       "    </tr>\n",
       "    <tr>\n",
       "      <th>3</th>\n",
       "      <td>24</td>\n",
       "      <td>2023-09-03</td>\n",
       "      <td>vegetarian</td>\n",
       "      <td>[1, 2, 3, 4]</td>\n",
       "    </tr>\n",
       "    <tr>\n",
       "      <th>4</th>\n",
       "      <td>24</td>\n",
       "      <td>2023-09-03</td>\n",
       "      <td>vegetarian</td>\n",
       "      <td>[4, 3, 2, 1]</td>\n",
       "    </tr>\n",
       "    <tr>\n",
       "      <th>5</th>\n",
       "      <td>24</td>\n",
       "      <td>2023-09-03</td>\n",
       "      <td>vegetarian</td>\n",
       "      <td>[2, 3, 4, 1]</td>\n",
       "    </tr>\n",
       "    <tr>\n",
       "      <th>6</th>\n",
       "      <td>24</td>\n",
       "      <td>2023-09-03</td>\n",
       "      <td>vegan</td>\n",
       "      <td>[1, 2, 3, 4]</td>\n",
       "    </tr>\n",
       "    <tr>\n",
       "      <th>7</th>\n",
       "      <td>24</td>\n",
       "      <td>2023-09-03</td>\n",
       "      <td>vegan</td>\n",
       "      <td>[4, 3, 2, 1]</td>\n",
       "    </tr>\n",
       "    <tr>\n",
       "      <th>8</th>\n",
       "      <td>24</td>\n",
       "      <td>2023-09-03</td>\n",
       "      <td>vegan</td>\n",
       "      <td>[2, 3, 4, 1]</td>\n",
       "    </tr>\n",
       "    <tr>\n",
       "      <th>9</th>\n",
       "      <td>27</td>\n",
       "      <td>2023-03-01</td>\n",
       "      <td>flexitarian</td>\n",
       "      <td>[1, 2, 3, 4]</td>\n",
       "    </tr>\n",
       "    <tr>\n",
       "      <th>10</th>\n",
       "      <td>27</td>\n",
       "      <td>2023-03-01</td>\n",
       "      <td>flexitarian</td>\n",
       "      <td>[4, 3, 2, 1]</td>\n",
       "    </tr>\n",
       "    <tr>\n",
       "      <th>11</th>\n",
       "      <td>27</td>\n",
       "      <td>2023-03-01</td>\n",
       "      <td>flexitarian</td>\n",
       "      <td>[2, 3, 4, 1]</td>\n",
       "    </tr>\n",
       "  </tbody>\n",
       "</table>\n",
       "</div>"
      ],
      "text/plain": [
       "    age predicted_birth_date nutrition_preference   nugget_flow\n",
       "0    24           2023-06-03                vegan  [1, 2, 3, 4]\n",
       "1    24           2023-06-03                vegan  [4, 3, 2, 1]\n",
       "2    24           2023-06-03                vegan  [2, 3, 4, 1]\n",
       "3    24           2023-09-03           vegetarian  [1, 2, 3, 4]\n",
       "4    24           2023-09-03           vegetarian  [4, 3, 2, 1]\n",
       "5    24           2023-09-03           vegetarian  [2, 3, 4, 1]\n",
       "6    24           2023-09-03                vegan  [1, 2, 3, 4]\n",
       "7    24           2023-09-03                vegan  [4, 3, 2, 1]\n",
       "8    24           2023-09-03                vegan  [2, 3, 4, 1]\n",
       "9    27           2023-03-01          flexitarian  [1, 2, 3, 4]\n",
       "10   27           2023-03-01          flexitarian  [4, 3, 2, 1]\n",
       "11   27           2023-03-01          flexitarian  [2, 3, 4, 1]"
      ]
     },
     "execution_count": 207,
     "metadata": {},
     "output_type": "execute_result"
    }
   ],
   "source": [
    "df = pd.DataFrame.from_records(cases)\n",
    "df"
   ]
  },
  {
   "cell_type": "markdown",
   "metadata": {},
   "source": [
    "## Step 2: Set up clood"
   ]
  },
  {
   "cell_type": "markdown",
   "metadata": {},
   "source": [
    "Create a new clood project"
   ]
  },
  {
   "cell_type": "code",
   "execution_count": 208,
   "metadata": {},
   "outputs": [],
   "source": [
    "base_url = 'http://93.90.192.115:3000/dev/'\n",
    "project_name = str(uuid.uuid4())"
   ]
  },
  {
   "cell_type": "code",
   "execution_count": 209,
   "metadata": {},
   "outputs": [],
   "source": [
    "url = base_url + 'project'\n",
    "data = {\"retainDuplicateCases\": False, \"name\": project_name}\n",
    "request = requests.post(url, json = data)"
   ]
  },
  {
   "cell_type": "code",
   "execution_count": 210,
   "metadata": {},
   "outputs": [],
   "source": [
    "project_id = json.loads(request.text)['id__']\n",
    "project_casebase = project_id  + \"_casebase\""
   ]
  },
  {
   "cell_type": "markdown",
   "metadata": {},
   "source": [
    "Define attributes"
   ]
  },
  {
   "cell_type": "code",
   "execution_count": 211,
   "metadata": {},
   "outputs": [],
   "source": [
    "url = base_url + 'project/' + project_id\n",
    "attributes = {\n",
    "  \"name\": project_name,\n",
    "  \"casebase\": project_casebase,\n",
    "  \"attributes\": [\n",
    "    {\n",
    "      \"similarity\": \"Nearest Number\",\n",
    "      \"name\": \"age\",\n",
    "      \"weight\": 1,\n",
    "      \"type\": \"Integer\",\n",
    "    },\n",
    "    {\n",
    "      \"similarity\": \"Nearest Date\",\n",
    "      \"name\": \"predicted_birth_date\",\n",
    "      \"weight\": 1,\n",
    "      \"type\": \"Date\",\n",
    "    },\n",
    "    {\n",
    "      \"similarity\": \"BM25\",\n",
    "      \"name\": \"nutrition_preference\",\n",
    "      \"weight\": 1,\n",
    "      \"type\": \"String\",\n",
    "    },\n",
    "    {\n",
    "      \"similarity\": \"Semantic USE\",\n",
    "      \"name\": \"nugget_flow\",\n",
    "      \"weight\": 1,\n",
    "      \"type\": \"String\",\n",
    "    }\n",
    "  ],\n",
    "  \"hasCasebase\": True,\n",
    "  \"description\": \"CBR testing...\",\n",
    "  \"id__\": project_id\n",
    "}\n",
    "request = requests.put(url, json = attributes)\n"
   ]
  },
  {
   "cell_type": "markdown",
   "metadata": {},
   "source": [
    "Add cases"
   ]
  },
  {
   "cell_type": "code",
   "execution_count": 212,
   "metadata": {},
   "outputs": [
    {
     "name": "stdout",
     "output_type": "stream",
     "text": [
      "<Response [201]>\n"
     ]
    }
   ],
   "source": [
    "url = base_url + 'case/' + project_id + '/list'\n",
    "request = requests.post(url, json = cases)\n",
    "print(request)"
   ]
  },
  {
   "cell_type": "markdown",
   "metadata": {},
   "source": [
    "## Step 3: Retrieve the recommended and most similar cases"
   ]
  },
  {
   "cell_type": "markdown",
   "metadata": {},
   "source": [
    "We set some search criteria and let CBR select the most similar cases. You can play around and with this and for example change the nugget_flow (aka the previously shown nuggets), age and/or predicted birth date."
   ]
  },
  {
   "cell_type": "code",
   "execution_count": 220,
   "metadata": {},
   "outputs": [
    {
     "name": "stdout",
     "output_type": "stream",
     "text": [
      "<Response [200]>\n"
     ]
    }
   ],
   "source": [
    "url = base_url + 'retrieve'\n",
    "data = {\n",
    "    \"data\": [\n",
    "        {\n",
    "            \"name\": \"age\",\n",
    "            \"type\": \"Integer\",\n",
    "            \"similarity\": \"Nearest Number\",\n",
    "            \"weight\": 1,\n",
    "            \"unknown\": False,\n",
    "            \"strategy\": \"Best Match\",\n",
    "            \"value\": 25\n",
    "        },\n",
    "        {\n",
    "            \"name\": \"predicted_birth_date\",\n",
    "            \"type\": \"Date\",\n",
    "            \"similarity\": \"Nearest Date\",\n",
    "            \"weight\": 1,\n",
    "            \"unknown\": False,\n",
    "            \"strategy\": \"Best Match\",\n",
    "            \"value\": \"2023-09-02\"\n",
    "        },\n",
    "        {\n",
    "            \"name\": \"nutrition_preference\",\n",
    "            \"type\": \"String\",\n",
    "            \"similarity\": \"BM25\",\n",
    "            \"weight\": 5,\n",
    "            \"unknown\": False,\n",
    "            \"strategy\": \"Best Match\",\n",
    "            \"value\": \"vegetarian\"\n",
    "        },\n",
    "        {\n",
    "            \"name\": \"nugget_flow\",\n",
    "            \"type\": \"String\",\n",
    "            \"similarity\": \"Semantic USE\",\n",
    "            \"weight\": 1,\n",
    "            \"unknown\": True,\n",
    "            \"strategy\": \"Best Match\",\n",
    "            \"value\": \"[4,3,2]\"\n",
    "        }\n",
    "    ],\n",
    "    \"topk\": 5,\n",
    "    \"globalSim\": \"Weighted Sum\",\n",
    "    \"explanation\": True,\n",
    "    \"project\": {\n",
    "        \"retainDuplicateCases\": False,\n",
    "        \"name\": project_name,\n",
    "        \"casebase\": project_casebase,\n",
    "        \"attributes\": [\n",
    "      {\n",
    "        \"similarity\": \"Nearest Number\",\n",
    "        \"name\": \"age\",\n",
    "        \"weight\": 1,\n",
    "        \"type\": \"Integer\",\n",
    "      },\n",
    "      {\n",
    "        \"similarity\": \"Nearest Date\",\n",
    "        \"name\": \"predicted_birth_date\",\n",
    "        \"weight\": 1,\n",
    "        \"type\": \"Date\",\n",
    "      },\n",
    "      {\n",
    "        \"similarity\": \"BM25\",\n",
    "        \"name\": \"nutrition_preference\",\n",
    "        \"weight\": 1,\n",
    "        \"type\": \"String\",\n",
    "      },\n",
    "      {\n",
    "        \"similarity\": \"Semantic USE\",\n",
    "        \"name\": \"nugget_flow\",\n",
    "        \"weight\": 1,\n",
    "        \"type\": \"String\",\n",
    "      }\n",
    "    ],\n",
    "        \"hasCasebase\": True,\n",
    "        \"description\": \"CBR testing...\",\n",
    "        \"id__\": project_id\n",
    "    }\n",
    "}\n",
    "request = requests.post(url, json = data)\n",
    "print(request)"
   ]
  },
  {
   "cell_type": "markdown",
   "metadata": {},
   "source": [
    "Recommended case"
   ]
  },
  {
   "cell_type": "code",
   "execution_count": 219,
   "metadata": {},
   "outputs": [
    {
     "data": {
      "text/html": [
       "<div>\n",
       "<style scoped>\n",
       "    .dataframe tbody tr th:only-of-type {\n",
       "        vertical-align: middle;\n",
       "    }\n",
       "\n",
       "    .dataframe tbody tr th {\n",
       "        vertical-align: top;\n",
       "    }\n",
       "\n",
       "    .dataframe thead th {\n",
       "        text-align: right;\n",
       "    }\n",
       "</style>\n",
       "<table border=\"1\" class=\"dataframe\">\n",
       "  <thead>\n",
       "    <tr style=\"text-align: right;\">\n",
       "      <th></th>\n",
       "      <th>age</th>\n",
       "      <th>predicted_birth_date</th>\n",
       "      <th>nutrition_preference</th>\n",
       "      <th>nugget_flow</th>\n",
       "    </tr>\n",
       "  </thead>\n",
       "  <tbody>\n",
       "    <tr>\n",
       "      <th>0</th>\n",
       "      <td>25</td>\n",
       "      <td>2023-09-02</td>\n",
       "      <td>meat</td>\n",
       "      <td>[4, 3, 2, 1]</td>\n",
       "    </tr>\n",
       "  </tbody>\n",
       "</table>\n",
       "</div>"
      ],
      "text/plain": [
       "   age predicted_birth_date nutrition_preference   nugget_flow\n",
       "0   25           2023-09-02                 meat  [4, 3, 2, 1]"
      ]
     },
     "execution_count": 219,
     "metadata": {},
     "output_type": "execute_result"
    }
   ],
   "source": [
    "pd.DataFrame(json.loads(request.text)['recommended'], index=[0])"
   ]
  },
  {
   "cell_type": "markdown",
   "metadata": {},
   "source": [
    "The most similar cases"
   ]
  },
  {
   "cell_type": "code",
   "execution_count": 215,
   "metadata": {},
   "outputs": [
    {
     "data": {
      "text/html": [
       "<div>\n",
       "<style scoped>\n",
       "    .dataframe tbody tr th:only-of-type {\n",
       "        vertical-align: middle;\n",
       "    }\n",
       "\n",
       "    .dataframe tbody tr th {\n",
       "        vertical-align: top;\n",
       "    }\n",
       "\n",
       "    .dataframe thead th {\n",
       "        text-align: right;\n",
       "    }\n",
       "</style>\n",
       "<table border=\"1\" class=\"dataframe\">\n",
       "  <thead>\n",
       "    <tr style=\"text-align: right;\">\n",
       "      <th></th>\n",
       "      <th>age</th>\n",
       "      <th>predicted_birth_date</th>\n",
       "      <th>nutrition_preference</th>\n",
       "      <th>nugget_flow</th>\n",
       "      <th>score__</th>\n",
       "      <th>match_explanation</th>\n",
       "    </tr>\n",
       "  </thead>\n",
       "  <tbody>\n",
       "    <tr>\n",
       "      <th>0</th>\n",
       "      <td>24</td>\n",
       "      <td>2023-09-03</td>\n",
       "      <td>vegan</td>\n",
       "      <td>[1, 2, 3, 4]</td>\n",
       "      <td>5.464733</td>\n",
       "      <td>[{'field': 'age', 'similarity': 0.999}, {'fiel...</td>\n",
       "    </tr>\n",
       "    <tr>\n",
       "      <th>1</th>\n",
       "      <td>24</td>\n",
       "      <td>2023-09-03</td>\n",
       "      <td>vegan</td>\n",
       "      <td>[4, 3, 2, 1]</td>\n",
       "      <td>5.464733</td>\n",
       "      <td>[{'field': 'age', 'similarity': 0.999}, {'fiel...</td>\n",
       "    </tr>\n",
       "    <tr>\n",
       "      <th>2</th>\n",
       "      <td>24</td>\n",
       "      <td>2023-09-03</td>\n",
       "      <td>vegan</td>\n",
       "      <td>[2, 3, 4, 1]</td>\n",
       "      <td>5.464733</td>\n",
       "      <td>[{'field': 'age', 'similarity': 0.999}, {'fiel...</td>\n",
       "    </tr>\n",
       "    <tr>\n",
       "      <th>3</th>\n",
       "      <td>24</td>\n",
       "      <td>2023-06-03</td>\n",
       "      <td>vegan</td>\n",
       "      <td>[1, 2, 3, 4]</td>\n",
       "      <td>5.464487</td>\n",
       "      <td>[{'field': 'age', 'similarity': 0.999}, {'fiel...</td>\n",
       "    </tr>\n",
       "    <tr>\n",
       "      <th>4</th>\n",
       "      <td>24</td>\n",
       "      <td>2023-06-03</td>\n",
       "      <td>vegan</td>\n",
       "      <td>[4, 3, 2, 1]</td>\n",
       "      <td>5.464487</td>\n",
       "      <td>[{'field': 'age', 'similarity': 0.999}, {'fiel...</td>\n",
       "    </tr>\n",
       "  </tbody>\n",
       "</table>\n",
       "</div>"
      ],
      "text/plain": [
       "   age predicted_birth_date nutrition_preference   nugget_flow   score__  \\\n",
       "0   24           2023-09-03                vegan  [1, 2, 3, 4]  5.464733   \n",
       "1   24           2023-09-03                vegan  [4, 3, 2, 1]  5.464733   \n",
       "2   24           2023-09-03                vegan  [2, 3, 4, 1]  5.464733   \n",
       "3   24           2023-06-03                vegan  [1, 2, 3, 4]  5.464487   \n",
       "4   24           2023-06-03                vegan  [4, 3, 2, 1]  5.464487   \n",
       "\n",
       "                                   match_explanation  \n",
       "0  [{'field': 'age', 'similarity': 0.999}, {'fiel...  \n",
       "1  [{'field': 'age', 'similarity': 0.999}, {'fiel...  \n",
       "2  [{'field': 'age', 'similarity': 0.999}, {'fiel...  \n",
       "3  [{'field': 'age', 'similarity': 0.999}, {'fiel...  \n",
       "4  [{'field': 'age', 'similarity': 0.999}, {'fiel...  "
      ]
     },
     "execution_count": 215,
     "metadata": {},
     "output_type": "execute_result"
    }
   ],
   "source": [
    "pd.DataFrame(json.loads(request.text)['bestK'])"
   ]
  },
  {
   "cell_type": "code",
   "execution_count": 203,
   "metadata": {},
   "outputs": [
    {
     "data": {
      "text/plain": [
       "array([list([{'field': 'age', 'similarity': 0.999}, {'field': 'predicted_birth_date', 'similarity': 0.99999726}]),\n",
       "       list([{'field': 'age', 'similarity': 0.999}, {'field': 'predicted_birth_date', 'similarity': 0.99999726}]),\n",
       "       list([{'field': 'age', 'similarity': 0.999}, {'field': 'predicted_birth_date', 'similarity': 0.99999726}]),\n",
       "       list([{'field': 'age', 'similarity': 0.999}, {'field': 'predicted_birth_date', 'similarity': 0.9997506}]),\n",
       "       list([{'field': 'age', 'similarity': 0.999}, {'field': 'predicted_birth_date', 'similarity': 0.9997506}])],\n",
       "      dtype=object)"
      ]
     },
     "execution_count": 203,
     "metadata": {},
     "output_type": "execute_result"
    }
   ],
   "source": [
    "pd.DataFrame(json.loads(request.text)['bestK'])['match_explanation'].values"
   ]
  },
  {
   "cell_type": "code",
   "execution_count": null,
   "metadata": {},
   "outputs": [],
   "source": []
  }
 ],
 "metadata": {
  "kernelspec": {
   "display_name": "Python 3.7.4 ('base')",
   "language": "python",
   "name": "python3"
  },
  "language_info": {
   "codemirror_mode": {
    "name": "ipython",
    "version": 3
   },
   "file_extension": ".py",
   "mimetype": "text/x-python",
   "name": "python",
   "nbconvert_exporter": "python",
   "pygments_lexer": "ipython3",
   "version": "3.7.4"
  },
  "vscode": {
   "interpreter": {
    "hash": "3d597f4c481aa0f25dceb95d2a0067e73c0966dcbd003d741d821a7208527ecf"
   }
  }
 },
 "nbformat": 4,
 "nbformat_minor": 4
}
